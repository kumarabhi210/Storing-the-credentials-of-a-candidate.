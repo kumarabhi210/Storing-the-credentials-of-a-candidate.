{
  "cells": [
    {
      "cell_type": "code",
      "execution_count": 14,
      "metadata": {
        "colab": {
          "base_uri": "https://localhost:8080/"
        },
        "id": "O2doOBowziXl",
        "outputId": "b0cf5cc2-bef5-4f11-80c0-6f26b80b2a03"
      },
      "outputs": [
        {
          "output_type": "stream",
          "name": "stdout",
          "text": [
            "Welcome to a SIGNUP Page\n",
            "Would you like to view or add the candidate information? Press Q to quit. add\n",
            "Canditate's Name: Abhishek Kumar\n",
            "DOB_YEAR: 1999\n",
            "Marital_Status: Unmarried\n",
            "Qualifications: b.Tech\n",
            "Last_Company;s_name: CapG\n",
            "Designation: Data analyst\n",
            "Would you like to view or add the candidate information? Press Q to quit. view\n",
            "Enter the Passcode for identity verification\n",
            " Grant_access1234\n",
            "Identification Check Successfully Completed. Welcome\n",
            "Username: abhi ,DOB_YEAR: 2014 ,Marital_Status: married ,HomeTown: HomeTown:  ,Qualifications: 12 ,Last_Company_name: capG ,Designation: data analyst\n",
            "\n",
            "Username: Abhishek Kumar ,DOB_YEAR: 1999 ,Marital_Status: Unmarried ,HomeTown: HomeTown:  ,Qualifications: b.Tech ,Last_Company_name: CapG ,Designation: Data analyst\n",
            "\n",
            "Would you like to view or add the candidate information? Press Q to quit. q\n",
            "Thanks you, See You again Later\n"
          ]
        }
      ],
      "source": [
       
        "print(\"Welcome to a SIGNUP Page\")\n",
        "\n",
        "def view():  \n",
        "  with open(\"Password_NEW2.txt\", 'r' ) as ft:\n",
        "    for line in ft.readlines():\n",
        "      user, DOB_YEAR, Marital_Status, HomeTown, Qualifications, Last_Company_name, Designation = line.split(\"|\")\n",
        "      print(\"Username:\",user, \",DOB_YEAR:\",DOB_YEAR, \",Marital_Status:\", Marital_Status,\",HomeTown:\",HomeTown, \",Qualifications:\", Qualifications,\",Last_Company_name:\", Last_Company_name, \",Designation:\",Designation)\n",
        "\n",
        "def add():\n",
        "  name=input(\"Canditate's Name: \")\n",
        "  DOB_YEAR= input(\"DOB_YEAR: \")\n",
        "  Marital_Status=input(\"Marital_Status: \")\n",
        "  HomeTown=(\"HomeTown: \")\n",
        "  Qualifications=input(\"Qualifications: \")\n",
        "  Last_Company_name =input(\"Last_Company;s_name: \")\n",
        "  Designation=input(\"Designation: \")\n",
        "\n",
        "\n",
        "\n",
        "  with open(\"Password_NEW2.txt\", 'a' ) as ft:\n",
        "    ft.write(name + \"|\" + DOB_YEAR + \"|\" + Marital_Status +\"|\"+ HomeTown +\"|\"+ Qualifications +\"|\" + Last_Company_name +\"|\"+ Designation +\"\\n\")\n",
        "\n",
        "   \n",
        "\n",
        "while True:\n",
        "  mode=input(\"Would you like to view or add the candidate information? Press Q to quit. \").lower()\n",
        "\n",
        "  if mode==\"add\":\n",
        "    add()     \n",
        "\n",
        "\n",
        "  elif mode==\"view\":\n",
        "    print(\"Enter the Passcode for identity verification\")\n",
        "    pass_code=input(\" \")\n",
        "    if pass_code==\"Grant_access1234\":\n",
        "      print(\"Identification Check Successfully Completed. Welcome\")\n",
        "      view()\n",
        "    else:\n",
        "      print(\"Security code Error!! Unidentified User.\") \n",
        "    \n",
        "\n",
        "  elif mode==\"q\":\n",
        "    print(\"Thanks you, See You again Later\")\n",
        "    break"
      ]
    }
  ],
  "metadata": {
    "colab": {
      "provenance": [],
      "collapsed_sections": []
    },
    "kernelspec": {
      "display_name": "Python 3",
      "name": "python3"
    },
    "language_info": {
      "name": "python"
    }
  },
  "nbformat": 4,
  "nbformat_minor": 0
}
